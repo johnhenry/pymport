{
 "cells": [
  {
   "cell_type": "code",
   "execution_count": null,
   "metadata": {},
   "outputs": [],
   "source": [
    "import pyntegrate from \"./index.mjs\";\n",
    "import assert from \"node:assert\";\n",
    "const example = pyntegrate((\"./test.py\"));\n",
    "const secret = example(\"secret\", Number);\n",
    "const question = example(\"question\");\n",
    "assert.strictEqual(\n",
    "  await question.call(\"who's there?\"),\n",
    "  \"The question is the answer: who's there?.\"\n",
    ");"
   ]
  }
 ],
 "metadata": {
  "kernelspec": {
   "display_name": "Deno",
   "language": "typescript",
   "name": "deno"
  },
  "language_info": {
   "file_extension": ".ts",
   "mimetype": "text/x.typescript",
   "name": "typescript",
   "nb_converter": "script",
   "pygments_lexer": "typescript",
   "version": "5.4.3"
  }
 },
 "nbformat": 4,
 "nbformat_minor": 2
}
